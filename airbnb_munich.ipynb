{
 "cells": [
  {
   "cell_type": "code",
   "execution_count": 106,
   "metadata": {},
   "outputs": [
    {
     "name": "stdout",
     "output_type": "stream",
     "text": [
      "Index(['id', 'listing_url', 'scrape_id', 'last_scraped', 'source', 'name',\n",
      "       'description', 'neighborhood_overview', 'picture_url', 'host_id',\n",
      "       'host_url', 'host_name', 'host_since', 'host_location', 'host_about',\n",
      "       'host_response_time', 'host_response_rate', 'host_acceptance_rate',\n",
      "       'host_is_superhost', 'host_thumbnail_url', 'host_picture_url',\n",
      "       'host_neighbourhood', 'host_listings_count',\n",
      "       'host_total_listings_count', 'host_verifications',\n",
      "       'host_has_profile_pic', 'host_identity_verified', 'neighbourhood',\n",
      "       'neighbourhood_cleansed', 'neighbourhood_group_cleansed', 'latitude',\n",
      "       'longitude', 'property_type', 'room_type', 'accommodates', 'bathrooms',\n",
      "       'bathrooms_text', 'bedrooms', 'beds', 'amenities', 'price',\n",
      "       'minimum_nights', 'maximum_nights', 'minimum_minimum_nights',\n",
      "       'maximum_minimum_nights', 'minimum_maximum_nights',\n",
      "       'maximum_maximum_nights', 'minimum_nights_avg_ntm',\n",
      "       'maximum_nights_avg_ntm', 'calendar_updated', 'has_availability',\n",
      "       'availability_30', 'availability_60', 'availability_90',\n",
      "       'availability_365', 'calendar_last_scraped', 'number_of_reviews',\n",
      "       'number_of_reviews_ltm', 'number_of_reviews_l30d', 'first_review',\n",
      "       'last_review', 'review_scores_rating', 'review_scores_accuracy',\n",
      "       'review_scores_cleanliness', 'review_scores_checkin',\n",
      "       'review_scores_communication', 'review_scores_location',\n",
      "       'review_scores_value', 'license', 'instant_bookable',\n",
      "       'calculated_host_listings_count',\n",
      "       'calculated_host_listings_count_entire_homes',\n",
      "       'calculated_host_listings_count_private_rooms',\n",
      "       'calculated_host_listings_count_shared_rooms', 'reviews_per_month'],\n",
      "      dtype='object')\n"
     ]
    }
   ],
   "source": [
    "import pandas as pd\n",
    "\n",
    "dataset_path = '../data/'\n",
    "filename = 'listings.csv'\n",
    "listings_df = pd.read_csv(dataset_path + filename)\n",
    "print(listings_df.columns)"
   ]
  },
  {
   "cell_type": "code",
   "execution_count": 107,
   "metadata": {},
   "outputs": [
    {
     "name": "stdout",
     "output_type": "stream",
     "text": [
      "host_name NA count: 1\n",
      "host_name NA count: 0\n"
     ]
    }
   ],
   "source": [
    "# Remove na host_name record\n",
    "print(f\"host_name NA count: {listings_df.host_name.isna().sum()}\")\n",
    "listings_df.dropna(subset='host_name')"
   ]
  },
  {
   "cell_type": "code",
   "execution_count": 108,
   "metadata": {},
   "outputs": [
    {
     "name": "stdout",
     "output_type": "stream",
     "text": [
      "[nan\n",
      " 'Peaceful neighbourhood and grocery stores are within 5 to 10 minutes walking distance.'\n",
      " 'Theresienwiese mit Bavaria, Bavariapark, <br />zwei U-Bahnstationen vom Hauptbahnhof entfernt, 3 U-Bahnstationen zum Stachus<br />sehr lebendiges Viertel mit vielen Restaurants, Cafés, allen Geschäften des täglichen Bedarfs etc.'\n",
      " 'Inder Nachbarschaft befinden sich viele Restaurants, Einkaufsmöglichkeiten und vieles mehr.'\n",
      " 'Just 1 station to Oktoberfest (Donnersbergerbrücke —> Hackerbrücke)!']\n",
      "Nb of unique values: 2382\n",
      "neighborhood_overview NA count: 3908\n",
      "---\n",
      "['Neuhausen' 'Laim' 'Alt Moosach' 'Altstadt - Lehel' nan]\n",
      "Nb of unique values: 78\n",
      "host_neighbourhood NA count: 4566\n",
      "---\n",
      "[nan 'Munich, Bayern, Germany' 'Munich, Bavaria, Germany'\n",
      " 'Munich, BY, Germany' 'Munich, Germany']\n",
      "Nb of unique values: 16\n",
      "neighbourhood NA count: 3908\n",
      "---\n",
      "['Neuhausen-Nymphenburg' 'Laim' 'Moosach' 'Altstadt-Lehel'\n",
      " 'Schwanthalerhöhe']\n",
      "Nb of unique values: 25\n",
      "neighbourhood_cleansed NA count: 0\n",
      "---\n",
      "[nan]\n",
      "Nb of unique values: 1\n",
      "neighbourhood_group_cleansed NA count: 6554\n",
      "---\n"
     ]
    }
   ],
   "source": [
    "# Explore neighborhood information\n",
    "print(listings_df.neighborhood_overview.unique()[:5])\n",
    "print(f\"Nb of unique values: {len(listings_df.neighborhood_overview.unique())}\")\n",
    "print(f\"neighborhood_overview NA count: {listings_df.neighborhood_overview.isna().sum()}\")\n",
    "print(\"---\")\n",
    "\n",
    "print(listings_df.host_neighbourhood.unique()[:5])\n",
    "print(f\"Nb of unique values: {len(listings_df.host_neighbourhood.unique())}\")\n",
    "print(f\"host_neighbourhood NA count: {listings_df.host_neighbourhood.isna().sum()}\")\n",
    "print(\"---\")\n",
    "\n",
    "print(listings_df.neighbourhood.unique()[:5])\n",
    "print(f\"Nb of unique values: {len(listings_df.neighbourhood.unique())}\")\n",
    "print(f\"neighbourhood NA count: {listings_df.neighbourhood.isna().sum()}\")\n",
    "print(\"---\")\n",
    "\n",
    "print(listings_df.neighbourhood_cleansed.unique()[:5])\n",
    "print(f\"Nb of unique values: {len(listings_df.neighbourhood_cleansed.unique())}\")\n",
    "print(f\"neighbourhood_cleansed NA count: {listings_df.neighbourhood_cleansed.isna().sum()}\")\n",
    "print(\"---\")\n",
    "\n",
    "print(listings_df.neighbourhood_group_cleansed.unique()[:5])\n",
    "print(f\"Nb of unique values: {len(listings_df.neighbourhood_group_cleansed.unique())}\")\n",
    "print(f\"neighbourhood_group_cleansed NA count: {listings_df.neighbourhood_group_cleansed.isna().sum()}\")\n",
    "print(\"---\")\n"
   ]
  },
  {
   "cell_type": "code",
   "execution_count": 109,
   "metadata": {},
   "outputs": [
    {
     "name": "stdout",
     "output_type": "stream",
     "text": [
      "Index(['id', 'listing_url', 'scrape_id', 'last_scraped', 'source', 'name',\n",
      "       'description', 'neighborhood_description', 'picture_url', 'host_id',\n",
      "       'host_url', 'host_name', 'host_since', 'host_location', 'host_about',\n",
      "       'host_response_time', 'host_response_rate', 'host_acceptance_rate',\n",
      "       'host_is_superhost', 'host_thumbnail_url', 'host_picture_url',\n",
      "       'host_listings_count', 'host_total_listings_count',\n",
      "       'host_verifications', 'host_has_profile_pic', 'host_identity_verified',\n",
      "       'neighborhood_name', 'latitude', 'longitude', 'property_type',\n",
      "       'room_type', 'accommodates', 'bathrooms', 'bathrooms_text', 'bedrooms',\n",
      "       'beds', 'amenities', 'price', 'minimum_nights', 'maximum_nights',\n",
      "       'minimum_minimum_nights', 'maximum_minimum_nights',\n",
      "       'minimum_maximum_nights', 'maximum_maximum_nights',\n",
      "       'minimum_nights_avg_ntm', 'maximum_nights_avg_ntm', 'calendar_updated',\n",
      "       'has_availability', 'availability_30', 'availability_60',\n",
      "       'availability_90', 'availability_365', 'calendar_last_scraped',\n",
      "       'number_of_reviews', 'number_of_reviews_ltm', 'number_of_reviews_l30d',\n",
      "       'first_review', 'last_review', 'review_scores_rating',\n",
      "       'review_scores_accuracy', 'review_scores_cleanliness',\n",
      "       'review_scores_checkin', 'review_scores_communication',\n",
      "       'review_scores_location', 'review_scores_value', 'license',\n",
      "       'instant_bookable', 'calculated_host_listings_count',\n",
      "       'calculated_host_listings_count_entire_homes',\n",
      "       'calculated_host_listings_count_private_rooms',\n",
      "       'calculated_host_listings_count_shared_rooms', 'reviews_per_month'],\n",
      "      dtype='object')\n"
     ]
    }
   ],
   "source": [
    "# Clean above neihborhood-related columns\n",
    "columns_rename = {\n",
    "  'neighborhood_overview': 'neighborhood_description',\n",
    "  'neighbourhood_cleansed': 'neighborhood_name'\n",
    "}\n",
    "listings_df.rename(columns=columns_rename, inplace=True)\n",
    "listings_df.drop(columns=['neighbourhood', 'neighbourhood_group_cleansed', 'host_neighbourhood'], inplace=True)\n",
    "print(listings_df.columns)\n"
   ]
  }
 ],
 "metadata": {
  "kernelspec": {
   "display_name": "Python 3 (ipykernel)",
   "language": "python",
   "name": "python3"
  },
  "language_info": {
   "codemirror_mode": {
    "name": "ipython",
    "version": 3
   },
   "file_extension": ".py",
   "mimetype": "text/x-python",
   "name": "python",
   "nbconvert_exporter": "python",
   "pygments_lexer": "ipython3",
   "version": "3.10.4"
  }
 },
 "nbformat": 4,
 "nbformat_minor": 2
}
